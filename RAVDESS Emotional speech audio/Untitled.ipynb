{
 "cells": [
  {
   "cell_type": "code",
   "execution_count": 1,
   "id": "9aec1499-aed0-4281-94fb-fbc605c369fe",
   "metadata": {},
   "outputs": [],
   "source": [
    "import pandas as pd\n",
    "import numpy as np\n",
    "import os\n",
    "#import tensorflow as tf\n",
    "import matplotlib.pyplot as plt\n",
    "#import librosa"
   ]
  },
  {
   "cell_type": "code",
   "execution_count": null,
   "id": "7cdadee0-bfaf-4c5c-a2c1-c103995c793b",
   "metadata": {},
   "outputs": [],
   "source": []
  }
 ],
 "metadata": {
  "kernelspec": {
   "display_name": "Python 3 (ipykernel)",
   "language": "python",
   "name": "python3"
  },
  "language_info": {
   "codemirror_mode": {
    "name": "ipython",
    "version": 3
   },
   "file_extension": ".py",
   "mimetype": "text/x-python",
   "name": "python",
   "nbconvert_exporter": "python",
   "pygments_lexer": "ipython3",
   "version": "3.9.12"
  }
 },
 "nbformat": 4,
 "nbformat_minor": 5
}
